{
 "cells": [
  {
   "cell_type": "code",
   "execution_count": 1,
   "id": "35c3cb24",
   "metadata": {},
   "outputs": [
    {
     "name": "stdout",
     "output_type": "stream",
     "text": [
      "its true\n"
     ]
    }
   ],
   "source": [
    "if True:\n",
    "    print(\"its true\")"
   ]
  },
  {
   "cell_type": "code",
   "execution_count": 2,
   "id": "04595a75",
   "metadata": {},
   "outputs": [
    {
     "name": "stdout",
     "output_type": "stream",
     "text": [
      "its true\n"
     ]
    }
   ],
   "source": [
    "if 3>2:\n",
    "    print(\"its true\")"
   ]
  },
  {
   "cell_type": "code",
   "execution_count": 5,
   "id": "38133b8e",
   "metadata": {},
   "outputs": [
    {
     "name": "stdout",
     "output_type": "stream",
     "text": [
      "feed me\n"
     ]
    }
   ],
   "source": [
    "hungry=True\n",
    "if hungry :\n",
    "    print(\"feed me\")"
   ]
  },
  {
   "cell_type": "code",
   "execution_count": 9,
   "id": "056e3482",
   "metadata": {},
   "outputs": [
    {
     "name": "stdout",
     "output_type": "stream",
     "text": [
      "Feed me\n"
     ]
    }
   ],
   "source": [
    "hungry = True\n",
    "\n",
    "if hungry:\n",
    "    print(\"Feed me\")\n",
    "else:\n",
    "    print(\"I'm not hungry\")\n"
   ]
  },
  {
   "cell_type": "code",
   "execution_count": 12,
   "id": "50fb5ac5",
   "metadata": {},
   "outputs": [
    {
     "name": "stdout",
     "output_type": "stream",
     "text": [
      "i dont know much\n"
     ]
    }
   ],
   "source": [
    "loc='bank'\n",
    "\n",
    "if loc=='auto shop':\n",
    "    print(\"cars are cool\")\n",
    "else:\n",
    "    print('i dont know much')"
   ]
  },
  {
   "cell_type": "code",
   "execution_count": 22,
   "id": "955802fa",
   "metadata": {},
   "outputs": [
    {
     "name": "stdout",
     "output_type": "stream",
     "text": [
      "store is cool\n"
     ]
    }
   ],
   "source": [
    "loc = 'store'\n",
    "\n",
    "if loc == 'auto shop':\n",
    "    print(\"Cars are cool\")\n",
    "elif loc == 'bank':\n",
    "    print(\"Money is cool\")\n",
    "elif loc == 'store':\n",
    "    print(\"store is cool\")\n",
    "else:\n",
    "    print(\"I don't know much\")\n"
   ]
  },
  {
   "cell_type": "code",
   "execution_count": null,
   "id": "0b52beec",
   "metadata": {},
   "outputs": [],
   "source": []
  },
  {
   "cell_type": "code",
   "execution_count": null,
   "id": "e0b9f5e7",
   "metadata": {},
   "outputs": [],
   "source": []
  }
 ],
 "metadata": {
  "kernelspec": {
   "display_name": "Python 3 (ipykernel)",
   "language": "python",
   "name": "python3"
  },
  "language_info": {
   "codemirror_mode": {
    "name": "ipython",
    "version": 3
   },
   "file_extension": ".py",
   "mimetype": "text/x-python",
   "name": "python",
   "nbconvert_exporter": "python",
   "pygments_lexer": "ipython3",
   "version": "3.11.5"
  }
 },
 "nbformat": 4,
 "nbformat_minor": 5
}
